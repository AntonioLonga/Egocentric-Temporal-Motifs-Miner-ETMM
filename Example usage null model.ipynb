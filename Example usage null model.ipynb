{
 "cells": [
  {
   "cell_type": "code",
   "execution_count": 1,
   "metadata": {},
   "outputs": [],
   "source": [
    "import construction as cs\n",
    "import numpy as np\n",
    "from ETN import *\n",
    "from ETMM import *"
   ]
  },
  {
   "cell_type": "code",
   "execution_count": 2,
   "metadata": {},
   "outputs": [
    {
     "data": {
      "text/plain": [
       "882"
      ]
     },
     "execution_count": 2,
     "metadata": {},
     "output_type": "execute_result"
    }
   ],
   "source": [
    "data = cs.load_data(\"Datasets/InVS13.dat\")\n",
    "graphs = cs.build_graphs(data,gap=300)\n",
    "len(graphs)"
   ]
  },
  {
   "cell_type": "code",
   "execution_count": 3,
   "metadata": {},
   "outputs": [],
   "source": [
    "seed = 10\n",
    "n = 1000\n",
    "null_models = shuffle_graphs(graphs,n,seed)"
   ]
  },
  {
   "cell_type": "code",
   "execution_count": 4,
   "metadata": {},
   "outputs": [],
   "source": [
    "k = 5\n",
    "S = count_ETN(graphs,k)\n",
    "S = {k: v for k, v in sorted(S.items(), key=lambda item: item[1], reverse=1)}"
   ]
  },
  {
   "cell_type": "code",
   "execution_count": 5,
   "metadata": {},
   "outputs": [
    {
     "name": "stdout",
     "output_type": "stream",
     "text": [
      "done 1\n",
      "done 2\n",
      "done 3\n",
      "done 4\n",
      "done 5\n",
      "done 6\n",
      "done 7\n",
      "done 8\n",
      "done 9\n",
      "done 10\n",
      "done 11\n",
      "done 12\n",
      "done 13\n",
      "done 14\n",
      "done 15\n",
      "done 16\n",
      "done 17\n",
      "done 18\n",
      "done 19\n",
      "done 20\n",
      "done 21\n",
      "done 22\n",
      "done 23\n",
      "done 24\n",
      "done 25\n",
      "done 26\n",
      "done 27\n",
      "done 28\n",
      "done 29\n",
      "done 30\n",
      "done 31\n",
      "done 32\n",
      "done 33\n",
      "done 34\n",
      "done 35\n",
      "done 36\n",
      "done 37\n",
      "done 38\n",
      "done 39\n",
      "done 40\n",
      "done 41\n",
      "done 42\n",
      "done 43\n",
      "done 44\n",
      "done 45\n",
      "done 46\n",
      "done 47\n",
      "done 48\n",
      "done 49\n",
      "done 50\n",
      "done 51\n",
      "done 52\n",
      "done 53\n",
      "done 54\n",
      "done 55\n",
      "done 56\n",
      "done 57\n",
      "done 58\n",
      "done 59\n",
      "done 60\n",
      "done 61\n",
      "done 62\n",
      "done 63\n",
      "done 64\n",
      "done 65\n",
      "done 66\n",
      "done 67\n",
      "done 68\n",
      "done 69\n",
      "done 70\n",
      "done 71\n",
      "done 72\n",
      "done 73\n",
      "done 74\n",
      "done 75\n",
      "done 76\n",
      "done 77\n",
      "done 78\n",
      "done 79\n",
      "done 80\n",
      "done 81\n",
      "done 82\n",
      "done 83\n",
      "done 84\n",
      "done 85\n",
      "done 86\n",
      "done 87\n",
      "done 88\n",
      "done 89\n",
      "done 90\n",
      "done 91\n",
      "done 92\n",
      "done 93\n",
      "done 94\n",
      "done 95\n",
      "done 96\n",
      "done 97\n",
      "done 98\n",
      "done 99\n",
      "done 100\n",
      "done 101\n",
      "done 102\n",
      "done 103\n",
      "done 104\n",
      "done 105\n",
      "done 106\n",
      "done 107\n",
      "done 108\n",
      "done 109\n",
      "done 110\n",
      "done 111\n",
      "done 112\n",
      "done 113\n",
      "done 114\n",
      "done 115\n",
      "done 116\n",
      "done 117\n",
      "done 118\n",
      "done 119\n",
      "done 120\n",
      "done 121\n",
      "done 122\n",
      "done 123\n",
      "done 124\n",
      "done 125\n",
      "done 126\n",
      "done 127\n",
      "done 128\n",
      "done 129\n",
      "done 130\n",
      "done 131\n",
      "done 132\n",
      "done 133\n",
      "done 134\n",
      "done 135\n",
      "done 136\n",
      "done 137\n",
      "done 138\n",
      "done 139\n",
      "done 140\n",
      "done 141\n",
      "done 142\n",
      "done 143\n",
      "done 144\n",
      "done 145\n",
      "done 146\n",
      "done 147\n",
      "done 148\n",
      "done 149\n",
      "done 150\n",
      "done 151\n",
      "done 152\n",
      "done 153\n",
      "done 154\n",
      "done 155\n",
      "done 156\n",
      "done 157\n",
      "done 158\n",
      "done 159\n",
      "done 160\n",
      "done 161\n",
      "done 162\n",
      "done 163\n",
      "done 164\n",
      "done 165\n",
      "done 166\n",
      "done 167\n",
      "done 168\n",
      "done 169\n",
      "done 170\n",
      "done 171\n",
      "done 172\n",
      "done 173\n",
      "done 174\n",
      "done 175\n",
      "done 176\n",
      "done 177\n",
      "done 178\n",
      "done 179\n",
      "done 180\n",
      "done 181\n",
      "done 182\n",
      "done 183\n",
      "done 184\n",
      "done 185\n",
      "done 186\n",
      "done 187\n",
      "done 188\n",
      "done 189\n",
      "done 190\n",
      "done 191\n",
      "done 192\n",
      "done 193\n",
      "done 194\n",
      "done 195\n",
      "done 196\n",
      "done 197\n",
      "done 198\n",
      "done 199\n",
      "done 200\n",
      "done 201\n",
      "done 202\n",
      "done 203\n",
      "done 204\n",
      "done 205\n",
      "done 206\n",
      "done 207\n",
      "done 208\n",
      "done 209\n",
      "done 210\n",
      "done 211\n",
      "done 212\n",
      "done 213\n",
      "done 214\n",
      "done 215\n",
      "done 216\n",
      "done 217\n",
      "done 218\n",
      "done 219\n",
      "done 220\n",
      "done 221\n",
      "done 222\n",
      "done 223\n",
      "done 224\n",
      "done 225\n",
      "done 226\n",
      "done 227\n",
      "done 228\n",
      "done 229\n",
      "done 230\n",
      "done 231\n",
      "done 232\n",
      "done 233\n",
      "done 234\n",
      "done 235\n",
      "done 236\n",
      "done 237\n",
      "done 238\n",
      "done 239\n",
      "done 240\n",
      "done 241\n",
      "done 242\n",
      "done 243\n",
      "done 244\n",
      "done 245\n",
      "done 246\n",
      "done 247\n",
      "done 248\n",
      "done 249\n",
      "done 250\n",
      "done 251\n",
      "done 252\n",
      "done 253\n",
      "done 254\n",
      "done 255\n",
      "done 256\n",
      "done 257\n",
      "done 258\n",
      "done 259\n",
      "done 260\n",
      "done 261\n",
      "done 262\n",
      "done 263\n",
      "done 264\n",
      "done 265\n",
      "done 266\n",
      "done 267\n",
      "done 268\n",
      "done 269\n",
      "done 270\n",
      "done 271\n",
      "done 272\n",
      "done 273\n",
      "done 274\n",
      "done 275\n",
      "done 276\n",
      "done 277\n",
      "done 278\n",
      "done 279\n",
      "done 280\n",
      "done 281\n",
      "done 282\n",
      "done 283\n",
      "done 284\n",
      "done 285\n",
      "done 286\n",
      "done 287\n",
      "done 288\n",
      "done 289\n",
      "done 290\n",
      "done 291\n",
      "done 292\n",
      "done 293\n",
      "done 294\n",
      "done 295\n",
      "done 296\n",
      "done 297\n",
      "done 298\n",
      "done 299\n",
      "done 300\n",
      "done 301\n",
      "done 302\n",
      "done 303\n",
      "done 304\n",
      "done 305\n",
      "done 306\n",
      "done 307\n",
      "done 308\n",
      "done 309\n",
      "done 310\n",
      "done 311\n",
      "done 312\n",
      "done 313\n",
      "done 314\n",
      "done 315\n",
      "done 316\n",
      "done 317\n",
      "done 318\n",
      "done 319\n",
      "done 320\n",
      "done 321\n",
      "done 322\n",
      "done 323\n",
      "done 324\n",
      "done 325\n",
      "done 326\n",
      "done 327\n",
      "done 328\n",
      "done 329\n",
      "done 330\n",
      "done 331\n",
      "done 332\n",
      "done 333\n",
      "done 334\n",
      "done 335\n",
      "done 336\n",
      "done 337\n",
      "done 338\n",
      "done 339\n",
      "done 340\n",
      "done 341\n",
      "done 342\n",
      "done 343\n",
      "done 344\n",
      "done 345\n",
      "done 346\n",
      "done 347\n",
      "done 348\n",
      "done 349\n",
      "done 350\n",
      "done 351\n",
      "done 352\n",
      "done 353\n",
      "done 354\n",
      "done 355\n",
      "done 356\n",
      "done 357\n",
      "done 358\n",
      "done 359\n",
      "done 360\n",
      "done 361\n",
      "done 362\n",
      "done 363\n",
      "done 364\n",
      "done 365\n",
      "done 366\n",
      "done 367\n",
      "done 368\n",
      "done 369\n",
      "done 370\n",
      "done 371\n",
      "done 372\n",
      "done 373\n",
      "done 374\n",
      "done 375\n",
      "done 376\n",
      "done 377\n",
      "done 378\n",
      "done 379\n",
      "done 380\n",
      "done 381\n",
      "done 382\n",
      "done 383\n",
      "done 384\n",
      "done 385\n",
      "done 386\n",
      "done 387\n",
      "done 388\n",
      "done 389\n",
      "done 390\n",
      "done 391\n",
      "done 392\n",
      "done 393\n",
      "done 394\n",
      "done 395\n",
      "done 396\n",
      "done 397\n",
      "done 398\n",
      "done 399\n",
      "done 400\n",
      "done 401\n",
      "done 402\n",
      "done 403\n",
      "done 404\n",
      "done 405\n",
      "done 406\n",
      "done 407\n",
      "done 408\n",
      "done 409\n",
      "done 410\n",
      "done 411\n",
      "done 412\n",
      "done 413\n",
      "done 414\n",
      "done 415\n",
      "done 416\n",
      "done 417\n",
      "done 418\n",
      "done 419\n",
      "done 420\n",
      "done 421\n",
      "done 422\n",
      "done 423\n",
      "done 424\n",
      "done 425\n",
      "done 426\n",
      "done 427\n",
      "done 428\n",
      "done 429\n",
      "done 430\n",
      "done 431\n",
      "done 432\n",
      "done 433\n",
      "done 434\n",
      "done 435\n",
      "done 436\n",
      "done 437\n",
      "done 438\n",
      "done 439\n",
      "done 440\n",
      "done 441\n",
      "done 442\n",
      "done 443\n",
      "done 444\n",
      "done 445\n",
      "done 446\n",
      "done 447\n",
      "done 448\n",
      "done 449\n",
      "done 450\n",
      "done 451\n",
      "done 452\n",
      "done 453\n",
      "done 454\n",
      "done 455\n",
      "done 456\n",
      "done 457\n",
      "done 458\n",
      "done 459\n",
      "done 460\n",
      "done 461\n",
      "done 462\n",
      "done 463\n",
      "done 464\n",
      "done 465\n",
      "done 466\n",
      "done 467\n",
      "done 468\n",
      "done 469\n",
      "done 470\n",
      "done 471\n",
      "done 472\n",
      "done 473\n",
      "done 474\n",
      "done 475\n",
      "done 476\n",
      "done 477\n",
      "done 478\n",
      "done 479\n",
      "done 480\n",
      "done 481\n",
      "done 482\n",
      "done 483\n",
      "done 484\n",
      "done 485\n",
      "done 486\n",
      "done 487\n",
      "done 488\n",
      "done 489\n",
      "done 490\n",
      "done 491\n",
      "done 492\n",
      "done 493\n",
      "done 494\n",
      "done 495\n",
      "done 496\n",
      "done 497\n",
      "done 498\n",
      "done 499\n",
      "done 500\n",
      "done 501\n",
      "done 502\n",
      "done 503\n",
      "done 504\n",
      "done 505\n",
      "done 506\n",
      "done 507\n",
      "done 508\n",
      "done 509\n",
      "done 510\n",
      "done 511\n",
      "done 512\n",
      "done 513\n",
      "done 514\n",
      "done 515\n",
      "done 516\n",
      "done 517\n",
      "done 518\n",
      "done 519\n",
      "done 520\n",
      "done 521\n",
      "done 522\n",
      "done 523\n",
      "done 524\n",
      "done 525\n",
      "done 526\n",
      "done 527\n",
      "done 528\n",
      "done 529\n",
      "done 530\n",
      "done 531\n",
      "done 532\n",
      "done 533\n",
      "done 534\n",
      "done 535\n",
      "done 536\n",
      "done 537\n",
      "done 538\n",
      "done 539\n",
      "done 540\n",
      "done 541\n",
      "done 542\n",
      "done 543\n",
      "done 544\n",
      "done 545\n",
      "done 546\n",
      "done 547\n",
      "done 548\n",
      "done 549\n",
      "done 550\n",
      "done 551\n",
      "done 552\n",
      "done 553\n",
      "done 554\n",
      "done 555\n",
      "done 556\n",
      "done 557\n",
      "done 558\n",
      "done 559\n",
      "done 560\n",
      "done 561\n",
      "done 562\n",
      "done 563\n",
      "done 564\n",
      "done 565\n",
      "done 566\n",
      "done 567\n",
      "done 568\n",
      "done 569\n",
      "done 570\n",
      "done 571\n",
      "done 572\n",
      "done 573\n",
      "done 574\n",
      "done 575\n",
      "done 576\n",
      "done 577\n",
      "done 578\n",
      "done 579\n",
      "done 580\n",
      "done 581\n",
      "done 582\n",
      "done 583\n",
      "done 584\n",
      "done 585\n",
      "done 586\n",
      "done 587\n",
      "done 588\n",
      "done 589\n",
      "done 590\n",
      "done 591\n",
      "done 592\n",
      "done 593\n",
      "done 594\n",
      "done 595\n",
      "done 596\n",
      "done 597\n",
      "done 598\n",
      "done 599\n",
      "done 600\n",
      "done 601\n",
      "done 602\n",
      "done 603\n",
      "done 604\n",
      "done 605\n",
      "done 606\n",
      "done 607\n",
      "done 608\n",
      "done 609\n",
      "done 610\n"
     ]
    },
    {
     "ename": "KeyboardInterrupt",
     "evalue": "",
     "output_type": "error",
     "traceback": [
      "\u001b[0;31m---------------------------------------------------------------------------\u001b[0m",
      "\u001b[0;31mKeyboardInterrupt\u001b[0m                         Traceback (most recent call last)",
      "\u001b[0;32m<ipython-input-5-08c73ac39842>\u001b[0m in \u001b[0;36m<module>\u001b[0;34m\u001b[0m\n\u001b[0;32m----> 1\u001b[0;31m \u001b[0mcounts\u001b[0m \u001b[0;34m=\u001b[0m \u001b[0mcounts_ETN_null_models\u001b[0m\u001b[0;34m(\u001b[0m\u001b[0mnull_models\u001b[0m\u001b[0;34m,\u001b[0m\u001b[0mS\u001b[0m\u001b[0;34m,\u001b[0m\u001b[0mk\u001b[0m\u001b[0;34m,\u001b[0m\u001b[0mverbose\u001b[0m\u001b[0;34m=\u001b[0m\u001b[0;32mTrue\u001b[0m\u001b[0;34m)\u001b[0m\u001b[0;34m\u001b[0m\u001b[0;34m\u001b[0m\u001b[0m\n\u001b[0m\u001b[1;32m      2\u001b[0m \u001b[0;31m#15:30\u001b[0m\u001b[0;34m\u001b[0m\u001b[0;34m\u001b[0m\u001b[0;34m\u001b[0m\u001b[0m\n",
      "\u001b[0;32m~/Desktop/Dottorato/SocioPatternsExperiments/ETMM/ETMM.py\u001b[0m in \u001b[0;36mcounts_ETN_null_models\u001b[0;34m(null_models, S, k, verbose)\u001b[0m\n\u001b[1;32m     66\u001b[0m     \u001b[0mc\u001b[0m \u001b[0;34m=\u001b[0m \u001b[0;36m1\u001b[0m\u001b[0;34m\u001b[0m\u001b[0;34m\u001b[0m\u001b[0m\n\u001b[1;32m     67\u001b[0m     \u001b[0;32mfor\u001b[0m \u001b[0mnull_model\u001b[0m \u001b[0;32min\u001b[0m \u001b[0mnull_models\u001b[0m\u001b[0;34m:\u001b[0m\u001b[0;34m\u001b[0m\u001b[0;34m\u001b[0m\u001b[0m\n\u001b[0;32m---> 68\u001b[0;31m         \u001b[0mS_i\u001b[0m \u001b[0;34m=\u001b[0m \u001b[0mcount_ETN_null_model\u001b[0m\u001b[0;34m(\u001b[0m\u001b[0mS\u001b[0m\u001b[0;34m,\u001b[0m\u001b[0mnull_model\u001b[0m\u001b[0;34m,\u001b[0m\u001b[0mk\u001b[0m\u001b[0;34m)\u001b[0m\u001b[0;34m\u001b[0m\u001b[0;34m\u001b[0m\u001b[0m\n\u001b[0m\u001b[1;32m     69\u001b[0m         \u001b[0;32mfor\u001b[0m \u001b[0mj\u001b[0m \u001b[0;32min\u001b[0m \u001b[0mlist\u001b[0m\u001b[0;34m(\u001b[0m\u001b[0mS_i\u001b[0m\u001b[0;34m.\u001b[0m\u001b[0mkeys\u001b[0m\u001b[0;34m(\u001b[0m\u001b[0;34m)\u001b[0m\u001b[0;34m)\u001b[0m\u001b[0;34m:\u001b[0m\u001b[0;34m\u001b[0m\u001b[0;34m\u001b[0m\u001b[0m\n\u001b[1;32m     70\u001b[0m             \u001b[0mcounts\u001b[0m\u001b[0;34m[\u001b[0m\u001b[0mj\u001b[0m\u001b[0;34m]\u001b[0m\u001b[0;34m.\u001b[0m\u001b[0mappend\u001b[0m\u001b[0;34m(\u001b[0m\u001b[0mS_i\u001b[0m\u001b[0;34m[\u001b[0m\u001b[0mj\u001b[0m\u001b[0;34m]\u001b[0m\u001b[0;34m)\u001b[0m\u001b[0;34m\u001b[0m\u001b[0;34m\u001b[0m\u001b[0m\n",
      "\u001b[0;32m~/Desktop/Dottorato/SocioPatternsExperiments/ETMM/ETMM.py\u001b[0m in \u001b[0;36mcount_ETN_null_model\u001b[0;34m(S_in, graphs, k)\u001b[0m\n\u001b[1;32m     80\u001b[0m     \u001b[0;32mfor\u001b[0m \u001b[0mi\u001b[0m \u001b[0;32min\u001b[0m \u001b[0mrange\u001b[0m\u001b[0;34m(\u001b[0m\u001b[0mlen\u001b[0m\u001b[0;34m(\u001b[0m\u001b[0mgraphs\u001b[0m\u001b[0;34m)\u001b[0m\u001b[0;34m-\u001b[0m\u001b[0mk\u001b[0m \u001b[0;34m+\u001b[0m \u001b[0;36m1\u001b[0m\u001b[0;34m)\u001b[0m\u001b[0;34m:\u001b[0m\u001b[0;34m\u001b[0m\u001b[0;34m\u001b[0m\u001b[0m\n\u001b[1;32m     81\u001b[0m         \u001b[0;32mfor\u001b[0m \u001b[0mv\u001b[0m \u001b[0;32min\u001b[0m \u001b[0mgraphs\u001b[0m\u001b[0;34m[\u001b[0m\u001b[0mi\u001b[0m\u001b[0;34m]\u001b[0m\u001b[0;34m.\u001b[0m\u001b[0mnodes\u001b[0m\u001b[0;34m(\u001b[0m\u001b[0;34m)\u001b[0m\u001b[0;34m:\u001b[0m\u001b[0;34m\u001b[0m\u001b[0;34m\u001b[0m\u001b[0m\n\u001b[0;32m---> 82\u001b[0;31m             \u001b[0metn\u001b[0m \u001b[0;34m=\u001b[0m \u001b[0mbuild_ETN\u001b[0m\u001b[0;34m(\u001b[0m\u001b[0mgraphs\u001b[0m\u001b[0;34m[\u001b[0m\u001b[0mi\u001b[0m\u001b[0;34m:\u001b[0m\u001b[0mi\u001b[0m\u001b[0;34m+\u001b[0m\u001b[0mk\u001b[0m\u001b[0;34m+\u001b[0m\u001b[0;36m1\u001b[0m\u001b[0;34m]\u001b[0m\u001b[0;34m,\u001b[0m\u001b[0mv\u001b[0m\u001b[0;34m)\u001b[0m\u001b[0;34m\u001b[0m\u001b[0;34m\u001b[0m\u001b[0m\n\u001b[0m\u001b[1;32m     83\u001b[0m             \u001b[0metns\u001b[0m \u001b[0;34m=\u001b[0m \u001b[0mget_ETNS\u001b[0m\u001b[0;34m(\u001b[0m\u001b[0metn\u001b[0m\u001b[0;34m)\u001b[0m\u001b[0;34m\u001b[0m\u001b[0;34m\u001b[0m\u001b[0m\n\u001b[1;32m     84\u001b[0m             \u001b[0;32mif\u001b[0m \u001b[0metns\u001b[0m \u001b[0;32min\u001b[0m \u001b[0mS\u001b[0m\u001b[0;34m.\u001b[0m\u001b[0mkeys\u001b[0m\u001b[0;34m(\u001b[0m\u001b[0;34m)\u001b[0m\u001b[0;34m:\u001b[0m\u001b[0;34m\u001b[0m\u001b[0;34m\u001b[0m\u001b[0m\n",
      "\u001b[0;32m~/Desktop/Dottorato/SocioPatternsExperiments/ETMM/ETN.py\u001b[0m in \u001b[0;36mbuild_ETN\u001b[0;34m(graphs, v)\u001b[0m\n\u001b[1;32m     90\u001b[0m     \u001b[0;32mfor\u001b[0m \u001b[0mi\u001b[0m \u001b[0;32min\u001b[0m \u001b[0mgraphs\u001b[0m\u001b[0;34m:\u001b[0m\u001b[0;34m\u001b[0m\u001b[0;34m\u001b[0m\u001b[0m\n\u001b[1;32m     91\u001b[0m         \u001b[0men_list\u001b[0m\u001b[0;34m.\u001b[0m\u001b[0mappend\u001b[0m\u001b[0;34m(\u001b[0m\u001b[0mget_egocentric_neighborhood\u001b[0m\u001b[0;34m(\u001b[0m\u001b[0mi\u001b[0m\u001b[0;34m,\u001b[0m\u001b[0mv\u001b[0m\u001b[0;34m)\u001b[0m\u001b[0;34m)\u001b[0m\u001b[0;34m\u001b[0m\u001b[0;34m\u001b[0m\u001b[0m\n\u001b[0;32m---> 92\u001b[0;31m         \u001b[0men_ids\u001b[0m\u001b[0;34m.\u001b[0m\u001b[0mappend\u001b[0m\u001b[0;34m(\u001b[0m\u001b[0mget_egocentric_neighborhood\u001b[0m\u001b[0;34m(\u001b[0m\u001b[0mi\u001b[0m\u001b[0;34m,\u001b[0m\u001b[0mv\u001b[0m\u001b[0;34m)\u001b[0m\u001b[0;34m)\u001b[0m\u001b[0;34m\u001b[0m\u001b[0;34m\u001b[0m\u001b[0m\n\u001b[0m\u001b[1;32m     93\u001b[0m \u001b[0;34m\u001b[0m\u001b[0m\n\u001b[1;32m     94\u001b[0m     \u001b[0;31m# add temporal step to en_list\u001b[0m\u001b[0;34m\u001b[0m\u001b[0;34m\u001b[0m\u001b[0;34m\u001b[0m\u001b[0m\n",
      "\u001b[0;32m~/Desktop/Dottorato/SocioPatternsExperiments/ETMM/ETN.py\u001b[0m in \u001b[0;36mget_egocentric_neighborhood\u001b[0;34m(g, v)\u001b[0m\n\u001b[1;32m     82\u001b[0m \u001b[0;34m\u001b[0m\u001b[0m\n\u001b[1;32m     83\u001b[0m \u001b[0;34m\u001b[0m\u001b[0m\n\u001b[0;32m---> 84\u001b[0;31m \u001b[0;32mdef\u001b[0m \u001b[0mget_egocentric_neighborhood\u001b[0m\u001b[0;34m(\u001b[0m\u001b[0mg\u001b[0m\u001b[0;34m,\u001b[0m\u001b[0mv\u001b[0m\u001b[0;34m)\u001b[0m\u001b[0;34m:\u001b[0m\u001b[0;34m\u001b[0m\u001b[0;34m\u001b[0m\u001b[0m\n\u001b[0m\u001b[1;32m     85\u001b[0m     \u001b[0;32mreturn\u001b[0m\u001b[0;34m(\u001b[0m\u001b[0;34m[\u001b[0m\u001b[0mstr\u001b[0m\u001b[0;34m(\u001b[0m\u001b[0mv\u001b[0m\u001b[0;34m)\u001b[0m\u001b[0;34m+\u001b[0m\u001b[0;34m\"*\"\u001b[0m\u001b[0;34m]\u001b[0m\u001b[0;34m+\u001b[0m\u001b[0mlist\u001b[0m\u001b[0;34m(\u001b[0m\u001b[0mg\u001b[0m\u001b[0;34m.\u001b[0m\u001b[0mneighbors\u001b[0m\u001b[0;34m(\u001b[0m\u001b[0mv\u001b[0m\u001b[0;34m)\u001b[0m\u001b[0;34m)\u001b[0m\u001b[0;34m)\u001b[0m\u001b[0;34m\u001b[0m\u001b[0;34m\u001b[0m\u001b[0m\n\u001b[1;32m     86\u001b[0m \u001b[0;34m\u001b[0m\u001b[0m\n",
      "\u001b[0;31mKeyboardInterrupt\u001b[0m: "
     ]
    }
   ],
   "source": [
    "counts = counts_ETN_null_models(null_models,S,k,verbose=True)\n",
    "#15:37"
   ]
  },
  {
   "cell_type": "code",
   "execution_count": 11,
   "metadata": {},
   "outputs": [
    {
     "data": {
      "text/plain": [
       "12"
      ]
     },
     "execution_count": 11,
     "metadata": {},
     "output_type": "execute_result"
    }
   ],
   "source": [
    "ETM = get_ETM(counts,alpha=0.01,beta=0.1,gamma=5)\n",
    "len(ETM)"
   ]
  },
  {
   "cell_type": "code",
   "execution_count": 12,
   "metadata": {
    "scrolled": true
   },
   "outputs": [
    {
     "name": "stdout",
     "output_type": "stream",
     "text": [
      "count \t = \t 3103\n"
     ]
    },
    {
     "data": {
      "image/png": "[encoded data removed]",
      "text/plain": [
       "<Figure size 432x288 with 1 Axes>"
      ]
     },
     "metadata": {},
     "output_type": "display_data"
    },
    {
     "name": "stdout",
     "output_type": "stream",
     "text": [
      "count \t = \t 25\n"
     ]
    },
    {
     "data": {
      "image/png": "[encoded data removed]",
      "text/plain": [
       "<Figure size 432x288 with 1 Axes>"
      ]
     },
     "metadata": {},
     "output_type": "display_data"
    },
    {
     "name": "stdout",
     "output_type": "stream",
     "text": [
      "count \t = \t 23\n"
     ]
    },
    {
     "data": {
      "image/png": "[encoded data removed]",
      "text/plain": [
       "<Figure size 432x288 with 1 Axes>"
      ]
     },
     "metadata": {},
     "output_type": "display_data"
    },
    {
     "name": "stdout",
     "output_type": "stream",
     "text": [
      "count \t = \t 20\n"
     ]
    },
    {
     "data": {
      "image/png": "[encoded data removed]",
      "text/plain": [
       "<Figure size 432x288 with 1 Axes>"
      ]
     },
     "metadata": {},
     "output_type": "display_data"
    },
    {
     "name": "stdout",
     "output_type": "stream",
     "text": [
      "count \t = \t 18\n"
     ]
    },
    {
     "data": {
      "image/png": "[encoded data removed]",
      "text/plain": [
       "<Figure size 432x288 with 1 Axes>"
      ]
     },
     "metadata": {},
     "output_type": "display_data"
    },
    {
     "name": "stdout",
     "output_type": "stream",
     "text": [
      "count \t = \t 18\n"
     ]
    },
    {
     "data": {
      "image/png": "[encoded data removed]",
      "text/plain": [
       "<Figure size 432x288 with 1 Axes>"
      ]
     },
     "metadata": {},
     "output_type": "display_data"
    },
    {
     "name": "stdout",
     "output_type": "stream",
     "text": [
      "count \t = \t 10\n"
     ]
    },
    {
     "data": {
      "image/png": "[encoded data removed]",
      "text/plain": [
       "<Figure size 432x288 with 1 Axes>"
      ]
     },
     "metadata": {},
     "output_type": "display_data"
    },
    {
     "name": "stdout",
     "output_type": "stream",
     "text": [
      "count \t = \t 9\n"
     ]
    },
    {
     "data": {
      "image/png": "[encoded data removed]",
      "text/plain": [
       "<Figure size 432x288 with 1 Axes>"
      ]
     },
     "metadata": {},
     "output_type": "display_data"
    },
    {
     "name": "stdout",
     "output_type": "stream",
     "text": [
      "count \t = \t 5\n"
     ]
    },
    {
     "data": {
      "image/png": "[encoded data removed]",
      "text/plain": [
       "<Figure size 432x288 with 1 Axes>"
      ]
     },
     "metadata": {},
     "output_type": "display_data"
    },
    {
     "name": "stdout",
     "output_type": "stream",
     "text": [
      "count \t = \t 5\n"
     ]
    },
    {
     "data": {
      "image/png": "[encoded data removed]",
      "text/plain": [
       "<Figure size 432x288 with 1 Axes>"
      ]
     },
     "metadata": {},
     "output_type": "display_data"
    },
    {
     "name": "stdout",
     "output_type": "stream",
     "text": [
      "count \t = \t 5\n"
     ]
    },
    {
     "data": {
      "image/png": "[encoded data removed]",
      "text/plain": [
       "<Figure size 432x288 with 1 Axes>"
      ]
     },
     "metadata": {},
     "output_type": "display_data"
    },
    {
     "name": "stdout",
     "output_type": "stream",
     "text": [
      "count \t = \t 5\n"
     ]
    },
    {
     "data": {
      "image/png": "[encoded data removed]",
      "text/plain": [
       "<Figure size 432x288 with 1 Axes>"
      ]
     },
     "metadata": {},
     "output_type": "display_data"
    }
   ],
   "source": [
    "for ETNS,count in ETM:\n",
    "    print(\"count \\t = \\t\",count)\n",
    "    draw_ETN(from_ETNS_to_ETN(ETNS,k=5))"
   ]
  },
  {
   "cell_type": "code",
   "execution_count": null,
   "metadata": {},
   "outputs": [],
   "source": []
  },
  {
   "cell_type": "code",
   "execution_count": null,
   "metadata": {},
   "outputs": [],
   "source": []
  },
  {
   "cell_type": "code",
   "execution_count": null,
   "metadata": {},
   "outputs": [],
   "source": []
  },
  {
   "cell_type": "code",
   "execution_count": null,
   "metadata": {},
   "outputs": [],
   "source": []
  },
  {
   "cell_type": "code",
   "execution_count": null,
   "metadata": {},
   "outputs": [],
   "source": []
  },
  {
   "cell_type": "code",
   "execution_count": 49,
   "metadata": {},
   "outputs": [],
   "source": []
  },
  {
   "cell_type": "code",
   "execution_count": null,
   "metadata": {},
   "outputs": [],
   "source": []
  },
  {
   "cell_type": "code",
   "execution_count": null,
   "metadata": {},
   "outputs": [],
   "source": []
  },
  {
   "cell_type": "code",
   "execution_count": null,
   "metadata": {},
   "outputs": [],
   "source": []
  },
  {
   "cell_type": "code",
   "execution_count": null,
   "metadata": {},
   "outputs": [],
   "source": []
  },
  {
   "cell_type": "code",
   "execution_count": null,
   "metadata": {},
   "outputs": [],
   "source": []
  },
  {
   "cell_type": "code",
   "execution_count": null,
   "metadata": {},
   "outputs": [],
   "source": []
  },
  {
   "cell_type": "code",
   "execution_count": 5,
   "metadata": {},
   "outputs": [],
   "source": []
  },
  {
   "cell_type": "code",
   "execution_count": 6,
   "metadata": {},
   "outputs": [],
   "source": []
  },
  {
   "cell_type": "code",
   "execution_count": null,
   "metadata": {},
   "outputs": [],
   "source": []
  },
  {
   "cell_type": "code",
   "execution_count": null,
   "metadata": {},
   "outputs": [],
   "source": []
  },
  {
   "cell_type": "code",
   "execution_count": null,
   "metadata": {},
   "outputs": [],
   "source": []
  },
  {
   "cell_type": "code",
   "execution_count": null,
   "metadata": {},
   "outputs": [],
   "source": []
  }
 ],
 "metadata": {
  "kernelspec": {
   "display_name": "Python 3",
   "language": "python",
   "name": "python3"
  },
  "language_info": {
   "codemirror_mode": {
    "name": "ipython",
    "version": 3
   },
   "file_extension": ".py",
   "mimetype": "text/x-python",
   "name": "python",
   "nbconvert_exporter": "python",
   "pygments_lexer": "ipython3",
   "version": "3.7.3"
  }
 },
 "nbformat": 4,
 "nbformat_minor": 2
}
