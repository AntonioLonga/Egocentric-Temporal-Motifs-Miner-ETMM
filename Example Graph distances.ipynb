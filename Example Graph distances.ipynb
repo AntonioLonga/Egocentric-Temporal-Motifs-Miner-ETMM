{
 "cells": [
  {
   "cell_type": "code",
   "execution_count": 1,
   "metadata": {},
   "outputs": [],
   "source": [
    "import networkx as nx\n",
    "\n",
    "import construction as cs\n",
    "import distances as dis\n",
    "\n",
    "%load_ext autoreload\n",
    "%autoreload 2"
   ]
  },
  {
   "cell_type": "code",
   "execution_count": 2,
   "metadata": {},
   "outputs": [],
   "source": [
    "dataset1 = \"InVS13\" # name of the dtaset 1\n",
    "dataset2 = \"LH10\"   # name of the dataset 2\n",
    "gap = 299  # temporal gap\n",
    "\n",
    "structure_type = \"ETM\" # ETM or ETN\n",
    "k = 3 # number of EN used for the creation of ETN"
   ]
  },
  {
   "cell_type": "code",
   "execution_count": 3,
   "metadata": {
    "scrolled": true
   },
   "outputs": [
    {
     "name": "stdout",
     "output_type": "stream",
     "text": [
      "number of etns:\t 392 \n",
      "number of etm: \t 52\n",
      "number of etns:\t 4367 \n",
      "number of etm: \t 124\n",
      "Distance between \n",
      "\tInVS13 and LH10 \t\t0.267\n"
     ]
    }
   ],
   "source": [
    "# statistical test parameters\n",
    "alpha=0.01\n",
    "beta=0.1\n",
    "gamma=5\n",
    "label=False # labels on nodes or not.\n",
    "\n",
    "dist_etmm = dis.etmm_distance([dataset1,dataset2],structure_type,gap,k,label,alpha,beta,gamma)\n",
    "\n",
    "print(\"Distance between \\n\\t%s and %s \\t\\t%0.3f\" %(dataset1,dataset2,dist_etmm))"
   ]
  },
  {
   "cell_type": "code",
   "execution_count": null,
   "metadata": {},
   "outputs": [],
   "source": []
  },
  {
   "cell_type": "code",
   "execution_count": null,
   "metadata": {},
   "outputs": [],
   "source": []
  }
 ],
 "metadata": {
  "kernelspec": {
   "display_name": "Python 3",
   "language": "python",
   "name": "python3"
  },
  "language_info": {
   "codemirror_mode": {
    "name": "ipython",
    "version": 3
   },
   "file_extension": ".py",
   "mimetype": "text/x-python",
   "name": "python",
   "nbconvert_exporter": "python",
   "pygments_lexer": "ipython3",
   "version": "3.8.8"
  }
 },
 "nbformat": 4,
 "nbformat_minor": 4
}
