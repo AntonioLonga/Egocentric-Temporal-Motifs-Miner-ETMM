{
 "cells": [
  {
   "cell_type": "code",
   "execution_count": 16,
   "metadata": {},
   "outputs": [
    {
     "name": "stdout",
     "output_type": "stream",
     "text": [
      "The autoreload extension is already loaded. To reload it, use:\n",
      "  %reload_ext autoreload\n"
     ]
    }
   ],
   "source": [
    "import construction as cs\n",
    "from ETN import *\n",
    "from ETMM import *\n",
    "\n",
    "%load_ext autoreload\n",
    "%autoreload 2"
   ]
  },
  {
   "cell_type": "code",
   "execution_count": 15,
   "metadata": {},
   "outputs": [],
   "source": [
    "# Parameters \n",
    "k = 3    # number of static snapshot used for the constructions of ETN\n",
    "gap = 299   # temporal gap\n",
    "label = False # if true, the loaded dataset is labeled\n",
    "file_name = \"InVS13\" # name of the file"
   ]
  },
  {
   "cell_type": "markdown",
   "metadata": {},
   "source": [
    "### Load the temporal graph as a sequence of static NetworkX graphs"
   ]
  },
  {
   "cell_type": "code",
   "execution_count": 3,
   "metadata": {},
   "outputs": [],
   "source": [
    "data = cs.load_data(\"Datasets/\"+file_name+\".dat\")\n",
    "if label:\n",
    "    meta_data = cs.load_metadata(\"Datasets/metadata/metadata_\"+file_name+\".dat\")\n",
    "else:\n",
    "    meta_data = None\n",
    "    \n",
    "if label:\n",
    "    graphs = cs.build_graphs(data,gap=gap,with_labels=label,meta_path=\"Datasets/metadata/metadata_\"+file_name+\".dat\")\n",
    "else:\n",
    "    graphs = cs.build_graphs(data,gap=gap,with_labels=label)"
   ]
  },
  {
   "cell_type": "markdown",
   "metadata": {},
   "source": [
    "### count ETN or LETN and store the result"
   ]
  },
  {
   "cell_type": "code",
   "execution_count": 4,
   "metadata": {},
   "outputs": [
    {
     "name": "stdout",
     "output_type": "stream",
     "text": [
      "file stored in: \tres/InVS13/ETNS/gap_299_k_3.json\n"
     ]
    }
   ],
   "source": [
    "S = count_ETN(graphs,k,meta=meta_data)\n",
    "S = {k: v for k, v in sorted(S.items(), key=lambda item: item[1], reverse=1)}\n",
    "\n",
    "store_etns(S,file_name,gap,k,label=label)"
   ]
  },
  {
   "cell_type": "code",
   "execution_count": 18,
   "metadata": {},
   "outputs": [
    {
     "name": "stdout",
     "output_type": "stream",
     "text": [
      "{'0b1000': 2221, '0b1100': 501, '0b1111': 435, '0b10001000': 270, '0b1110': 217, '0b01001000': 164, '0b00011000': 122, '0b1010': 122, '0b1001': 97, '0b00101000': 90, '0b10001100': 87, '0b1101': 85, '0b1011': 62, '0b01001100': 60, '0b100010001000': 43, '0b10001111': 34, '0b00011111': 27, '0b10001110': 26, '0b00011100': 26, '0b01101000': 25, '0b00101100': 24, '0b00101110': 23, '0b00111000': 23, '0b010010001000': 22, '0b010001001000': 21, '0b01001110': 21, '0b11001100': 19, '0b01001111': 18, '0b00011110': 17, '0b000100011000': 17, '0b1000100010001000': 16, '0b00101010': 16, '0b01111000': 16, '0b001010001000': 15, '0b10001010': 15, '0b00101111': 14, '0b00011001': 14, '0b000110001000': 13, '0b10001001': 13, '0b00111100': 12, '0b010010001100': 12, '0b001000101000': 12, '0b00011010': 11, '0b00011101': 11, '0b01101110': 10, '0b010001001100': 10, '0b001001101000': 10, '0b01101100': 10, '0b00111111': 9, '0b000100101000': 9, '0b11001110': 9, '0b01001010': 8, '0b01001001': 8, '0b11101111': 8, '0b000101001100': 8, '0b100010001100': 7, '0b10101100': 7, '0b0100100010001000': 7, '0b01011000': 7, '0b10001101': 6, '0b00101101': 6, '0b01001101': 6, '0b01111111': 6, '0b00111010': 6, '0b01111100': 6, '0b00011011': 6, '0b001000101100': 6, '0b001001001000': 6, '0b00101011': 5, '0b000110001100': 5, '0b000100111000': 5, '0b11001111': 5, '0b001000101110': 5, '0b001110001000': 5, '0b01111110': 5, '0b10001000100010001000': 4, '0b11001101': 4, '0b100011001100': 4, '0b000110001111': 4, '0b010011001100': 4, '0b11011111': 4, '0b0010001000111000': 4, '0b100010101100': 4, '0b100010001010': 4, '0b000100111100': 4, '0b001001001100': 4, '0b011010001100': 4, '0b11011110': 4, '0b00111110': 4, '0b01001000100010001000': 3, '0b0100100010001100': 3, '0b100010001111': 3, '0b100010001110': 3, '0b0001000100011100': 3, '0b000101101000': 3, '0b00111011': 3, '0b010001001001': 3, '0b010010001111': 3, '0b001101101000': 3, '0b0001000100111000': 3, '0b001101001000': 3, '0b0001100010001000': 3, '0b0010001010001000': 3, '0b00010100010010001000': 3, '0b000100101100': 3, '0b001001101100': 3, '0b0001000110001000': 3, '0b001010001100': 2, '0b0010001000101000': 2, '0b011010001110': 2, '0b000101111111': 2, '0b10001000100010001100': 2, '0b001001111000': 2, '0b100010001001': 2, '0b0100010001001000': 2, '0b10011001': 2, '0b0010010010001000': 2, '0b0110100010001000': 2, '0b001010001110': 2, '0b0100100010001110': 2, '0b0011010010001000': 2, '0b0001100010001110': 2, '0b000101001000': 2, '0b001010001111': 2, '0b001000111000': 2, '0b00100010001000101100': 2, '0b01000100010001001000': 2, '0b0001010001001101': 2, '0b001001001111': 2, '0b000100011111': 2, '0b010001101000': 2, '0b000100011110': 2, '0b0100010010001000': 2, '0b01101111': 2, '0b000100011001': 2, '0b0001000100011001': 2, '0b100010011110': 2, '0b01111101': 2, '0b10101101': 2, '0b10011010': 2, '0b0001000101001000': 2, '0b01101011': 2, '0b0100010010001100': 2, '0b00111001': 2, '0b11111111': 2, '0b11101110': 2, '0b011110001000': 2, '0b10011100': 2, '0b0001010010001000': 2, '0b011010001000': 2, '0b100011001110': 2, '0b10101111': 2, '0b010001001101': 2, '0b100010001011': 2, '0b000110001010': 2, '0b000100111110': 2, '0b0100010001001100': 2, '0b01011100': 2, '0b000100011010': 2, '0b000100011100': 2, '0b10011011': 2, '0b111': 2, '0b00100100011010001100': 1, '0b0010001001001011': 1, '0b0100010001111000': 1, '0b01011110': 1, '0b00100010010001101110': 1, '0b00100100010001101110': 1, '0b01000100100011001100': 1, '0b100010001100110011001100': 1, '0b0001001011111111': 1, '0b110011001100': 1, '0b01001000100011001100': 1, '0b0011010011101111': 1, '0b0100011010001110': 1, '0b0110100011011110': 1, '0b0001101111001101': 1, '0b10001011': 1, '0b0010011010001010': 1, '0b000100111111': 1, '0b010001001010': 1, '0b00100100100010001010': 1, '0b0001001000101000': 1, '0b0001001101001100': 1, '0b000100010011011011001110': 1, '0b001011101110': 1, '0b001001101110': 1, '0b00010010001001000100010001101000': 1, '0b010001001000100010001000': 1, '0b0010011110001000': 1, '0b001000100111100011001100': 1, '0b0011010001001000100010001100': 1, '0b01000100100010001111': 1, '0b011110001110': 1, '0b000111011110': 1, '0b001010101100': 1, '0b10101110': 1, '0b01011001': 1, '0b00010001000101001000': 1, '0b011110001100': 1, '0b000101001111': 1, '0b010101111000': 1, '0b000110101110': 1, '0b000111001111': 1, '0b001110001110': 1, '0b0011100010001010': 1, '0b0001000110101100': 1, '0b0010001001001000': 1, '0b001000111001': 1, '0b0001010001001000': 1, '0b0100010001011000': 1, '0b011101111000': 1, '0b0001011110001010': 1, '0b0001011110001000': 1, '0b010010001110': 1, '0b001000111110': 1, '0b010001111100': 1, '0b001000101010': 1, '0b0100100010001010': 1, '0b00100011100010001000': 1, '0b10001000100011001111': 1, '0b01101000100010101110': 1, '0b010011001101': 1, '0b0001000100101001': 1, '0b00100100010001001000': 1, '0b0001000100101110': 1, '0b0010001001001100': 1, '0b000101011001': 1, '0b001100111010': 1, '0b100111011111': 1, '0b0010001010011111': 1, '0b000110011011': 1, '0b100110111101': 1, '0b0001001010111110': 1, '0b0010010001001110': 1, '0b001001101011': 1, '0b00010010010001101100': 1, '0b010001101101': 1, '0b00100100100010001100': 1, '0b001000101111': 1, '0b0010100010001010': 1, '0b010001001111': 1, '0b000101001011': 1, '0b10111110': 1, '0b10011101': 1, '0b0010001100111000': 1, '0b0011001110001000': 1, '0b000100010001001000111011': 1, '0b001110001011': 1, '0b01000100100010001000100011001100': 1, '0b010001000100100011001110': 1, '0b1000100011001100': 1, '0b0100011001101110': 1, '0b0100100011001100': 1, '0b1000110011001100': 1, '0b011111011111': 1, '0b00100111110111111111': 1, '0b0100111011111111': 1, '0b000100101111111111111111': 1, '0b01001101110111101111': 1, '0b101011101110': 1, '0b000101001010111011101110': 1, '0b00011000110011101110': 1, '0b001001001110111011101110': 1, '0b10001010101011001110': 1, '0b001001001000110011001100': 1, '0b0010100011001100': 1, '0b010010001100110011001100': 1, '0b0001001010001000': 1, '0b0001001010001010': 1, '0b0001010010001010': 1, '0b0001000101001110': 1, '0b0010001010001100': 1, '0b010010001001': 1, '0b0001001110001000': 1, '0b000100010001000110001001': 1, '0b0110011101111010': 1, '0b0100110011101111': 1, '0b000110001000100011001111': 1, '0b1000100111001111': 1, '0b001010011110': 1, '0b001110001111': 1, '0b001101001100': 1, '0b000110111110': 1, '0b0001001001111101': 1, '0b000100011101': 1, '0b0010010010101111': 1, '0b001000111010': 1, '0b0100010010001110': 1, '0b100010011101': 1, '0b100010011100': 1, '0b00010001000110011111': 1, '0b000110001001': 1, '0b000100100010001000111110': 1, '0b001001000100010001101100': 1, '0b010010001000100010001100': 1, '0b0110100010011100': 1, '0b00101001': 1, '0b010001101110': 1, '0b001110001100': 1, '0b01101101': 1, '0b000100101110': 1, '0b00010010001000101000': 1, '0b000110001101': 1, '0b01000100010001101000': 1, '0b00100010100010001000': 1, '0b1000100010001100': 1, '0b0001000110001100': 1, '0b101111001100': 1, '0b0100100010111110': 1, '0b010001111000': 1, '0b10111111': 1, '0b000111001100': 1, '0b10011110': 1, '0b0001001010001100': 1, '0b01011011': 1, '0b001001001001': 1, '0b000100011011': 1, '0b0010001000101100': 1, '0b0100010001011001': 1, '0b0100010001001010': 1, '0b010001011100': 1, '0b0011100010001011': 1, '0b0001000110001110': 1, '0b0001001000101100': 1, '0b0011010001011000': 1, '0b010001011000': 1, '0b011010001010': 1, '0b01001011': 1, '0b0011011001101110': 1, '0b0110110011001101': 1, '0b00011000100010101100': 1, '0b001001011000': 1, '0b0001000101011011': 1, '0b0001000100011010': 1, '0b0010001001101010': 1, '0b00110100010001001000': 1, '0b000100010001001010101010': 1, '0b010001010110100010001010': 1, '0b0100100010101100': 1, '0b01000100100010001000': 1, '0b0010010001001000': 1, '0b010110001000': 1, '0b010101101111': 1, '0b101011001111': 1, '0b001010001001': 1, '0b001110001001': 1, '0b0001000100010001000100100010001101111011': 1, '0b00100100010001101011': 1, '0b100010011111': 1, '0b0010001000110011001101000100011001111111': 1, '0b01000111100010001100': 1, '0b0001000100111110': 1, '0b0100010001100110011010001000110011101110': 1, '0b0010001101101100': 1, '0b10001000100011001100110011001100': 1, '0b0100011010001100': 1, '0b0001001101101000': 1, '0b010001101111': 1, '0b0001100010001111': 1, '0b100011001111': 1, '0b000101011110': 1, '0b00010001001010101100': 1, '0b00100010010001001000': 1, '0b0001000100101000': 1, '0b00100010001000101000': 1, '0b0001000100011111': 1, '0b0010001000101110': 1, '0b0001000110001001': 1, '0b0001010010001001': 1, '0b000110001110': 1, '0b0111100010001000': 1, '0b0010010010101100': 1, '0b0010001101001100': 1, '0b0100011010001000': 1, '0b010010101100': 1, '0b0100011110001000': 1, '0b001001001110': 1, '0b0010001001001110': 1, '0b00010001100010001001': 1, '0b0001001000101011': 1, '0b0111100010001111': 1, '0b001011111111': 1, '0b010011101110': 1, '0b00010001100011001100': 1, '0b0010100010001110': 1, '0b0100010110001111': 1, '0b100010101110': 1, '0b10011111': 1, '0b0001010001101011': 1, '0b0010011010001100': 1, '0b000101111000': 1}\n"
     ]
    }
   ],
   "source": [
    "print(S)"
   ]
  },
  {
   "cell_type": "code",
   "execution_count": 5,
   "metadata": {},
   "outputs": [],
   "source": [
    "# load etns \n",
    "SS = load_etns(file_name,gap,k,label=label)\n",
    "assert(SS == S)"
   ]
  },
  {
   "cell_type": "code",
   "execution_count": 24,
   "metadata": {},
   "outputs": [
    {
     "data": {
      "image/png": "[encoded data removed]",
      "text/plain": [
       "<Figure size 432x288 with 1 Axes>"
      ]
     },
     "metadata": {},
     "output_type": "display_data"
    }
   ],
   "source": [
    "S_array = list(S.keys())\n",
    "draw_ETN(from_ETNS_to_ETN(S_array[10],k=3,meta=None),multiple=False)"
   ]
  },
  {
   "cell_type": "code",
   "execution_count": 6,
   "metadata": {},
   "outputs": [
    {
     "name": "stdout",
     "output_type": "stream",
     "text": [
      "count \t = \t 2221\n",
      "count \t = \t 501\n",
      "count \t = \t 435\n",
      "count \t = \t 270\n",
      "count \t = \t 217\n",
      "count \t = \t 164\n"
     ]
    },
    {
     "data": {
      "image/png": "[encoded data removed]",
      "text/plain": [
       "<Figure size 864x216 with 6 Axes>"
      ]
     },
     "metadata": {},
     "output_type": "display_data"
    }
   ],
   "source": [
    "# plot 6 most frequent ETN\n",
    "fig_per_row = 6\n",
    "S_array = list(S.keys())\n",
    "for i in range(0,6,fig_per_row):\n",
    "    plt.figure(figsize=(12,3))\n",
    "    for j in range(fig_per_row):\n",
    "        plt.subplot(1,fig_per_row,j+1)\n",
    "        print(\"count \\t = \\t\",S[S_array[i+j]])\n",
    "        draw_ETN(from_ETNS_to_ETN(S_array[i+j],k,meta_data),multiple=True)\n",
    "    plt.show()"
   ]
  },
  {
   "cell_type": "markdown",
   "metadata": {},
   "source": [
    "# Build Null models"
   ]
  },
  {
   "cell_type": "code",
   "execution_count": 27,
   "metadata": {},
   "outputs": [],
   "source": [
    "def buil_nm(graphs,n,file):\n",
    "    t = 0\n",
    "    to_save = []\n",
    "    f = open(\"null_models/\"+file+\"/\"+file+\"_\"+str(n)+\".txt\", \"a\")\n",
    "    for g in graphs:\n",
    "        for e in g.edges():\n",
    "            s = str(t)+\" \"+str(e[0])+\" \"+str(e[1])+\"\\n\"\n",
    "            f.write(s)\n",
    "        t = t + gap + 1\n",
    "    f.close()"
   ]
  },
  {
   "cell_type": "code",
   "execution_count": 28,
   "metadata": {},
   "outputs": [
    {
     "name": "stdout",
     "output_type": "stream",
     "text": [
      "5\n"
     ]
    }
   ],
   "source": [
    "seed = 10\n",
    "n = 5\n",
    "null_models = shuffle_graphs(graphs,n,seed)\n",
    "print(len(null_models))"
   ]
  },
  {
   "cell_type": "code",
   "execution_count": 29,
   "metadata": {},
   "outputs": [],
   "source": [
    "# store null models\n",
    "c = 0\n",
    "for graphs in null_models:\n",
    "    buil_nm(graphs,c,file_name)\n",
    "    c = c + 1"
   ]
  },
  {
   "cell_type": "markdown",
   "metadata": {},
   "source": [
    "# Egocentric temporal motifs miner ETMM"
   ]
  },
  {
   "cell_type": "code",
   "execution_count": 30,
   "metadata": {},
   "outputs": [],
   "source": [
    "# load precoputed etns\n",
    "S = load_etns(file_name,gap,k,label)"
   ]
  },
  {
   "cell_type": "code",
   "execution_count": 31,
   "metadata": {},
   "outputs": [
    {
     "name": "stdout",
     "output_type": "stream",
     "text": [
      "done 1\n",
      "done 2\n",
      "done 3\n",
      "done 4\n",
      "done 5\n",
      "file stored in: \tres/InVS13/ETM_counts/gap_299_k_3.json\n"
     ]
    }
   ],
   "source": [
    "# count etn in null models and store the results\n",
    "\n",
    "counts = counts_ETN_null_models(null_models,S,k,label,meta_data,verbose=True)\n",
    "store_etm_counts(counts,file_name,gap,k,label)"
   ]
  },
  {
   "cell_type": "code",
   "execution_count": 32,
   "metadata": {},
   "outputs": [],
   "source": [
    "tmp = load_etm_count(file_name,gap,k,label)\n",
    "assert(tmp == counts)"
   ]
  },
  {
   "cell_type": "code",
   "execution_count": 33,
   "metadata": {},
   "outputs": [
    {
     "data": {
      "text/plain": [
       "{'0b1000': [2221, 3536, 3594, 3554, 3549, 3569],\n",
       " '0b1100': [501, 75, 85, 89, 90, 77],\n",
       " '0b1111': [435, 0, 4, 2, 2, 0],\n",
       " '0b10001000': [270, 518, 530, 512, 523, 520],\n",
       " '0b1110': [217, 5, 5, 8, 4, 3],\n",
       " '0b01001000': [164, 226, 237, 241, 224, 227],\n",
       " '0b00011000': [122, 242, 226, 243, 241, 206],\n",
       " '0b1010': [122, 85, 91, 89, 73, 83],\n",
       " '0b1001': [97, 65, 72, 70, 70, 82],\n",
       " '0b00101000': [90, 252, 225, 223, 254, 241],\n",
       " '0b10001100': [87, 15, 8, 17, 15, 16],\n",
       " '0b1101': [85, 8, 8, 1, 8, 4],\n",
       " '0b1011': [62, 12, 5, 5, 7, 6],\n",
       " '0b01001100': [60, 14, 16, 13, 13, 18],\n",
       " '0b100010001000': [43, 98, 98, 104, 97, 107],\n",
       " '0b10001111': [34, 0, 0, 0, 0, 0],\n",
       " '0b00011111': [27, 0, 1, 0, 0, 0],\n",
       " '0b10001110': [26, 0, 2, 1, 0, 0],\n",
       " '0b00011100': [26, 10, 7, 7, 7, 8],\n",
       " '0b01101000': [25, 7, 7, 9, 6, 5],\n",
       " '0b00101100': [24, 6, 8, 10, 6, 10],\n",
       " '0b00101110': [23, 0, 4, 1, 0, 1],\n",
       " '0b00111000': [23, 2, 11, 2, 9, 7],\n",
       " '0b010010001000': [22, 28, 28, 26, 29, 32],\n",
       " '0b010001001000': [21, 34, 27, 26, 27, 34],\n",
       " '0b01001110': [21, 1, 0, 1, 0, 1],\n",
       " '0b11001100': [19, 0, 0, 3, 0, 0],\n",
       " '0b01001111': [18, 0, 0, 0, 0, 0],\n",
       " '0b00011110': [17, 0, 0, 2, 0, 1],\n",
       " '0b000100011000': [17, 20, 26, 30, 37, 35],\n",
       " '0b1000100010001000': [16, 25, 24, 24, 25, 27],\n",
       " '0b00101010': [16, 22, 7, 21, 7, 19],\n",
       " '0b01111000': [16, 1, 0, 0, 0, 0],\n",
       " '0b001010001000': [15, 23, 34, 28, 40, 36],\n",
       " '0b10001010': [15, 19, 13, 15, 8, 10],\n",
       " '0b00101111': [14, 0, 0, 0, 0, 0],\n",
       " '0b00011001': [14, 10, 10, 12, 14, 14],\n",
       " '0b000110001000': [13, 36, 33, 30, 33, 40],\n",
       " '0b10001001': [13, 10, 8, 8, 12, 15],\n",
       " '0b00111100': [12, 2, 0, 0, 0, 0],\n",
       " '0b010010001100': [12, 3, 3, 5, 0, 3],\n",
       " '0b001000101000': [12, 33, 26, 35, 30, 33],\n",
       " '0b00011010': [11, 3, 4, 5, 6, 3],\n",
       " '0b00011101': [11, 1, 0, 0, 0, 0],\n",
       " '0b01101110': [10, 0, 0, 0, 0, 0],\n",
       " '0b010001001100': [10, 2, 2, 5, 5, 1],\n",
       " '0b001001101000': [10, 1, 1, 1, 0, 1],\n",
       " '0b01101100': [10, 1, 0, 0, 0, 0],\n",
       " '0b00111111': [9, 0, 0, 0, 0, 0],\n",
       " '0b000100101000': [9, 12, 20, 10, 18, 17],\n",
       " '0b11001110': [9, 0, 0, 0, 0, 0],\n",
       " '0b01001010': [8, 9, 4, 3, 3, 8],\n",
       " '0b01001001': [8, 9, 7, 2, 7, 9],\n",
       " '0b11101111': [8, 0, 0, 0, 0, 0],\n",
       " '0b000101001100': [8, 1, 1, 2, 1, 2],\n",
       " '0b100010001100': [7, 2, 7, 2, 3, 3],\n",
       " '0b10101100': [7, 2, 0, 1, 0, 0],\n",
       " '0b0100100010001000': [7, 8, 5, 6, 7, 3],\n",
       " '0b01011000': [7, 5, 6, 8, 4, 8],\n",
       " '0b10001101': [6, 0, 2, 0, 1, 0],\n",
       " '0b00101101': [6, 1, 0, 0, 0, 0],\n",
       " '0b01001101': [6, 3, 0, 0, 1, 1],\n",
       " '0b01111111': [6, 0, 0, 0, 0, 0],\n",
       " '0b00111010': [6, 0, 0, 0, 0, 0],\n",
       " '0b01111100': [6, 0, 0, 0, 0, 0],\n",
       " '0b00011011': [6, 0, 2, 0, 2, 2],\n",
       " '0b001000101100': [6, 1, 1, 0, 0, 0],\n",
       " '0b001001001000': [6, 20, 17, 14, 13, 21],\n",
       " '0b00101011': [5, 2, 0, 1, 0, 0],\n",
       " '0b000110001100': [5, 3, 3, 1, 1, 2],\n",
       " '0b000100111000': [5, 1, 1, 1, 1, 3],\n",
       " '0b11001111': [5, 0, 0, 0, 0, 0],\n",
       " '0b001000101110': [5, 0, 0, 0, 0, 0],\n",
       " '0b001110001000': [5, 0, 0, 1, 1, 0],\n",
       " '0b01111110': [5, 0, 0, 0, 0, 0],\n",
       " '0b10001000100010001000': [4, 8, 9, 6, 9, 7],\n",
       " '0b11001101': [4, 0, 1, 0, 0, 0],\n",
       " '0b100011001100': [4, 0, 0, 0, 0, 0],\n",
       " '0b000110001111': [4, 0, 0, 0, 0, 0],\n",
       " '0b010011001100': [4, 1, 0, 0, 0, 0],\n",
       " '0b11011111': [4, 0, 0, 0, 0, 0],\n",
       " '0b0010001000111000': [4, 0, 2, 0, 0, 0],\n",
       " '0b100010101100': [4, 0, 0, 0, 0, 0],\n",
       " '0b100010001010': [4, 3, 0, 2, 2, 2],\n",
       " '0b000100111100': [4, 0, 0, 0, 0, 0],\n",
       " '0b001001001100': [4, 1, 0, 2, 1, 0],\n",
       " '0b011010001100': [4, 0, 0, 0, 0, 0],\n",
       " '0b11011110': [4, 0, 0, 0, 0, 0],\n",
       " '0b00111110': [4, 0, 0, 0, 0, 0],\n",
       " '0b01001000100010001000': [3, 1, 3, 3, 2, 1],\n",
       " '0b0100100010001100': [3, 0, 0, 1, 1, 0],\n",
       " '0b100010001111': [3, 0, 1, 0, 0, 0],\n",
       " '0b100010001110': [3, 0, 0, 0, 1, 1],\n",
       " '0b0001000100011100': [3, 0, 0, 0, 2, 0],\n",
       " '0b000101101000': [3, 0, 1, 0, 0, 0],\n",
       " '0b00111011': [3, 0, 0, 0, 0, 0],\n",
       " '0b010001001001': [3, 0, 1, 0, 0, 1],\n",
       " '0b010010001111': [3, 0, 0, 0, 0, 0],\n",
       " '0b001101101000': [3, 0, 0, 0, 0, 0],\n",
       " '0b0001000100111000': [3, 0, 0, 0, 0, 0],\n",
       " '0b001101001000': [3, 1, 0, 0, 0, 0],\n",
       " '0b0001100010001000': [3, 7, 4, 9, 7, 5],\n",
       " '0b0010001010001000': [3, 5, 3, 9, 5, 3],\n",
       " '0b00010100010010001000': [3, 0, 1, 0, 0, 0],\n",
       " '0b000100101100': [3, 0, 0, 1, 0, 0],\n",
       " '0b001001101100': [3, 0, 0, 0, 0, 0],\n",
       " '0b0001000110001000': [3, 6, 4, 5, 3, 2],\n",
       " '0b001010001100': [2, 0, 3, 2, 1, 1],\n",
       " '0b0010001000101000': [2, 6, 9, 5, 7, 5],\n",
       " '0b011010001110': [2, 0, 0, 0, 0, 0],\n",
       " '0b000101111111': [2, 0, 0, 0, 0, 0],\n",
       " '0b10001000100010001100': [2, 1, 1, 0, 0, 0],\n",
       " '0b001001111000': [2, 0, 0, 0, 0, 0],\n",
       " '0b100010001001': [2, 0, 3, 5, 3, 1],\n",
       " '0b0100010001001000': [2, 5, 5, 5, 9, 3],\n",
       " '0b10011001': [2, 1, 0, 1, 0, 0],\n",
       " '0b0010010010001000': [2, 2, 3, 2, 5, 2],\n",
       " '0b0110100010001000': [2, 0, 0, 1, 0, 0],\n",
       " '0b001010001110': [2, 0, 0, 1, 0, 0],\n",
       " '0b0100100010001110': [2, 0, 0, 0, 0, 0],\n",
       " '0b0011010010001000': [2, 0, 0, 0, 0, 1],\n",
       " '0b0001100010001110': [2, 0, 0, 0, 0, 0],\n",
       " '0b000101001000': [2, 19, 13, 20, 24, 15],\n",
       " '0b001010001111': [2, 0, 0, 0, 0, 0],\n",
       " '0b001000111000': [2, 1, 0, 2, 1, 0],\n",
       " '0b00100010001000101100': [2, 0, 0, 0, 0, 0],\n",
       " '0b01000100010001001000': [2, 1, 1, 2, 2, 5],\n",
       " '0b0001010001001101': [2, 0, 0, 0, 0, 0],\n",
       " '0b001001001111': [2, 0, 0, 0, 0, 0],\n",
       " '0b000100011111': [2, 0, 0, 0, 0, 0],\n",
       " '0b010001101000': [2, 0, 1, 0, 2, 2],\n",
       " '0b000100011110': [2, 1, 0, 0, 0, 0],\n",
       " '0b0100010010001000': [2, 6, 6, 5, 4, 6],\n",
       " '0b01101111': [2, 0, 0, 0, 0, 0],\n",
       " '0b000100011001': [2, 2, 2, 1, 6, 5],\n",
       " '0b0001000100011001': [2, 1, 0, 0, 0, 0],\n",
       " '0b100010011110': [2, 0, 0, 0, 0, 0],\n",
       " '0b01111101': [2, 0, 0, 0, 0, 0],\n",
       " '0b10101101': [2, 0, 0, 0, 0, 0],\n",
       " '0b10011010': [2, 0, 0, 1, 0, 1],\n",
       " '0b0001000101001000': [2, 4, 2, 5, 3, 2],\n",
       " '0b01101011': [2, 0, 0, 0, 0, 0],\n",
       " '0b0100010010001100': [2, 2, 1, 0, 0, 0],\n",
       " '0b00111001': [2, 0, 2, 0, 1, 0],\n",
       " '0b11111111': [2, 0, 0, 0, 0, 0],\n",
       " '0b11101110': [2, 0, 0, 0, 0, 0],\n",
       " '0b011110001000': [2, 0, 0, 0, 0, 1],\n",
       " '0b10011100': [2, 0, 0, 1, 0, 0],\n",
       " '0b0001010010001000': [2, 1, 3, 3, 3, 1],\n",
       " '0b011010001000': [2, 0, 1, 4, 1, 1],\n",
       " '0b100011001110': [2, 0, 0, 0, 0, 0],\n",
       " '0b10101111': [2, 0, 0, 0, 0, 0],\n",
       " '0b010001001101': [2, 1, 0, 0, 0, 1],\n",
       " '0b100010001011': [2, 0, 0, 0, 0, 0],\n",
       " '0b000110001010': [2, 0, 0, 1, 2, 3],\n",
       " '0b000100111110': [2, 0, 0, 0, 0, 0],\n",
       " '0b0100010001001100': [2, 0, 1, 0, 0, 0],\n",
       " '0b01011100': [2, 2, 1, 2, 0, 1],\n",
       " '0b000100011010': [2, 0, 1, 0, 0, 0],\n",
       " '0b000100011100': [2, 1, 0, 0, 1, 1],\n",
       " '0b10011011': [2, 0, 1, 0, 0, 0],\n",
       " '0b111': [2, 0, 0, 0, 0, 0],\n",
       " '0b00100100011010001100': [1, 0, 0, 0, 0, 0],\n",
       " '0b0010001001001011': [1, 0, 0, 0, 0, 0],\n",
       " '0b0100010001111000': [1, 0, 0, 0, 0, 0],\n",
       " '0b01011110': [1, 0, 0, 0, 0, 0],\n",
       " '0b00100010010001101110': [1, 0, 0, 0, 0, 0],\n",
       " '0b00100100010001101110': [1, 0, 0, 0, 0, 0],\n",
       " '0b01000100100011001100': [1, 0, 0, 0, 0, 0],\n",
       " '0b100010001100110011001100': [1, 0, 0, 0, 0, 0],\n",
       " '0b0001001011111111': [1, 0, 0, 0, 0, 0],\n",
       " '0b110011001100': [1, 0, 0, 0, 0, 0],\n",
       " '0b01001000100011001100': [1, 0, 0, 0, 0, 0],\n",
       " '0b0011010011101111': [1, 0, 0, 0, 0, 0],\n",
       " '0b0100011010001110': [1, 0, 0, 0, 0, 0],\n",
       " '0b0110100011011110': [1, 0, 0, 0, 0, 0],\n",
       " '0b0001101111001101': [1, 0, 0, 0, 0, 0],\n",
       " '0b10001011': [1, 2, 0, 1, 0, 1],\n",
       " '0b0010011010001010': [1, 0, 0, 0, 0, 0],\n",
       " '0b000100111111': [1, 0, 0, 0, 0, 0],\n",
       " '0b010001001010': [1, 0, 0, 2, 0, 1],\n",
       " '0b00100100100010001010': [1, 0, 0, 0, 0, 0],\n",
       " '0b0001001000101000': [1, 2, 3, 2, 2, 2],\n",
       " '0b0001001101001100': [1, 0, 0, 0, 0, 0],\n",
       " '0b000100010011011011001110': [1, 0, 0, 0, 0, 0],\n",
       " '0b001011101110': [1, 0, 0, 0, 0, 0],\n",
       " '0b001001101110': [1, 0, 0, 0, 0, 0],\n",
       " '0b00010010001001000100010001101000': [1, 0, 0, 0, 0, 0],\n",
       " '0b010001001000100010001000': [1, 1, 0, 0, 0, 0],\n",
       " '0b0010011110001000': [1, 0, 0, 0, 0, 0],\n",
       " '0b001000100111100011001100': [1, 0, 0, 0, 0, 0],\n",
       " '0b0011010001001000100010001100': [1, 0, 0, 0, 0, 0],\n",
       " '0b01000100100010001111': [1, 0, 0, 0, 0, 0],\n",
       " '0b011110001110': [1, 0, 0, 0, 0, 0],\n",
       " '0b000111011110': [1, 0, 0, 0, 0, 0],\n",
       " '0b001010101100': [1, 0, 0, 0, 0, 0],\n",
       " '0b10101110': [1, 0, 0, 0, 1, 0],\n",
       " '0b01011001': [1, 1, 0, 0, 0, 0],\n",
       " '0b00010001000101001000': [1, 0, 0, 1, 1, 1],\n",
       " '0b011110001100': [1, 0, 0, 0, 0, 0],\n",
       " '0b000101001111': [1, 0, 0, 0, 0, 0],\n",
       " '0b010101111000': [1, 0, 0, 0, 0, 0],\n",
       " '0b000110101110': [1, 0, 0, 0, 0, 0],\n",
       " '0b000111001111': [1, 0, 0, 0, 0, 0],\n",
       " '0b001110001110': [1, 0, 0, 0, 0, 0],\n",
       " '0b0011100010001010': [1, 0, 0, 0, 0, 0],\n",
       " '0b0001000110101100': [1, 0, 0, 0, 0, 0],\n",
       " '0b0010001001001000': [1, 4, 0, 1, 2, 0],\n",
       " '0b001000111001': [1, 1, 0, 0, 0, 0],\n",
       " '0b0001010001001000': [1, 2, 1, 1, 3, 4],\n",
       " '0b0100010001011000': [1, 0, 0, 0, 0, 0],\n",
       " '0b011101111000': [1, 0, 0, 0, 0, 0],\n",
       " '0b0001011110001010': [1, 0, 0, 0, 0, 0],\n",
       " '0b0001011110001000': [1, 0, 0, 0, 0, 0],\n",
       " '0b010010001110': [1, 0, 0, 0, 1, 0],\n",
       " '0b001000111110': [1, 0, 0, 0, 0, 0],\n",
       " '0b010001111100': [1, 0, 0, 0, 0, 0],\n",
       " '0b001000101010': [1, 1, 2, 4, 1, 5],\n",
       " '0b0100100010001010': [1, 0, 0, 0, 0, 0],\n",
       " '0b00100011100010001000': [1, 0, 0, 0, 0, 0],\n",
       " '0b10001000100011001111': [1, 0, 0, 0, 0, 0],\n",
       " '0b01101000100010101110': [1, 0, 0, 0, 0, 0],\n",
       " '0b010011001101': [1, 0, 0, 0, 0, 0],\n",
       " '0b0001000100101001': [1, 0, 0, 0, 0, 0],\n",
       " '0b00100100010001001000': [1, 0, 0, 0, 0, 1],\n",
       " '0b0001000100101110': [1, 0, 0, 0, 0, 0],\n",
       " '0b0010001001001100': [1, 0, 0, 1, 0, 0],\n",
       " '0b000101011001': [1, 0, 0, 0, 0, 0],\n",
       " '0b001100111010': [1, 0, 0, 0, 0, 0],\n",
       " '0b100111011111': [1, 0, 0, 0, 0, 0],\n",
       " '0b0010001010011111': [1, 0, 0, 0, 0, 0],\n",
       " '0b000110011011': [1, 0, 0, 0, 0, 0],\n",
       " '0b100110111101': [1, 0, 0, 0, 0, 0],\n",
       " '0b0001001010111110': [1, 0, 0, 0, 0, 0],\n",
       " '0b0010010001001110': [1, 0, 0, 0, 0, 0],\n",
       " '0b001001101011': [1, 0, 0, 0, 0, 0],\n",
       " '0b00010010010001101100': [1, 0, 0, 0, 0, 0],\n",
       " '0b010001101101': [1, 0, 0, 0, 0, 0],\n",
       " '0b00100100100010001100': [1, 0, 0, 0, 0, 0],\n",
       " '0b001000101111': [1, 0, 0, 0, 0, 0],\n",
       " '0b0010100010001010': [1, 0, 0, 0, 1, 0],\n",
       " '0b010001001111': [1, 0, 0, 0, 0, 0],\n",
       " '0b000101001011': [1, 0, 0, 1, 0, 0],\n",
       " '0b10111110': [1, 0, 0, 0, 0, 0],\n",
       " '0b10011101': [1, 0, 0, 0, 0, 0],\n",
       " '0b0010001100111000': [1, 0, 0, 0, 0, 0],\n",
       " '0b0011001110001000': [1, 0, 0, 0, 0, 0],\n",
       " '0b000100010001001000111011': [1, 0, 0, 0, 0, 0],\n",
       " '0b001110001011': [1, 0, 0, 0, 0, 0],\n",
       " '0b01000100100010001000100011001100': [1, 0, 0, 0, 0, 0],\n",
       " '0b010001000100100011001110': [1, 0, 0, 0, 0, 0],\n",
       " '0b1000100011001100': [1, 0, 0, 1, 0, 0],\n",
       " '0b0100011001101110': [1, 0, 0, 0, 0, 0],\n",
       " '0b0100100011001100': [1, 0, 0, 0, 1, 0],\n",
       " '0b1000110011001100': [1, 0, 0, 0, 0, 0],\n",
       " '0b011111011111': [1, 0, 0, 0, 0, 0],\n",
       " '0b00100111110111111111': [1, 0, 0, 0, 0, 0],\n",
       " '0b0100111011111111': [1, 0, 0, 0, 0, 0],\n",
       " '0b000100101111111111111111': [1, 0, 0, 0, 0, 0],\n",
       " '0b01001101110111101111': [1, 0, 0, 0, 0, 0],\n",
       " '0b101011101110': [1, 0, 0, 0, 0, 0],\n",
       " '0b000101001010111011101110': [1, 0, 0, 0, 0, 0],\n",
       " '0b00011000110011101110': [1, 0, 0, 0, 0, 0],\n",
       " '0b001001001110111011101110': [1, 0, 0, 0, 0, 0],\n",
       " '0b10001010101011001110': [1, 0, 0, 0, 0, 0],\n",
       " '0b001001001000110011001100': [1, 0, 0, 0, 0, 0],\n",
       " '0b0010100011001100': [1, 0, 0, 0, 0, 0],\n",
       " '0b010010001100110011001100': [1, 0, 0, 0, 0, 0],\n",
       " '0b0001001010001000': [1, 3, 6, 1, 1, 1],\n",
       " '0b0001001010001010': [1, 0, 0, 0, 0, 1],\n",
       " '0b0001010010001010': [1, 0, 0, 0, 0, 1],\n",
       " '0b0001000101001110': [1, 0, 0, 0, 0, 0],\n",
       " '0b0010001010001100': [1, 0, 0, 0, 0, 0],\n",
       " '0b010010001001': [1, 1, 1, 0, 4, 1],\n",
       " '0b0001001110001000': [1, 0, 0, 0, 0, 0],\n",
       " '0b000100010001000110001001': [1, 0, 0, 0, 0, 0],\n",
       " '0b0110011101111010': [1, 0, 0, 0, 0, 0],\n",
       " '0b0100110011101111': [1, 0, 0, 0, 0, 0],\n",
       " '0b000110001000100011001111': [1, 0, 0, 0, 0, 0],\n",
       " '0b1000100111001111': [1, 0, 0, 0, 0, 0],\n",
       " '0b001010011110': [1, 0, 0, 0, 0, 0],\n",
       " '0b001110001111': [1, 0, 0, 0, 0, 0],\n",
       " '0b001101001100': [1, 0, 0, 0, 0, 0],\n",
       " '0b000110111110': [1, 0, 0, 0, 0, 0],\n",
       " '0b0001001001111101': [1, 0, 0, 0, 0, 0],\n",
       " '0b000100011101': [1, 0, 0, 0, 0, 0],\n",
       " '0b0010010010101111': [1, 0, 0, 0, 0, 0],\n",
       " '0b001000111010': [1, 0, 1, 0, 0, 0],\n",
       " '0b0100010010001110': [1, 0, 0, 0, 0, 0],\n",
       " '0b100010011101': [1, 0, 0, 0, 0, 0],\n",
       " '0b100010011100': [1, 0, 0, 0, 0, 0],\n",
       " '0b00010001000110011111': [1, 0, 0, 0, 0, 0],\n",
       " '0b000110001001': [1, 3, 2, 1, 3, 0],\n",
       " '0b000100100010001000111110': [1, 0, 0, 0, 0, 0],\n",
       " '0b001001000100010001101100': [1, 0, 0, 0, 0, 0],\n",
       " '0b010010001000100010001100': [1, 0, 0, 0, 0, 0],\n",
       " '0b0110100010011100': [1, 0, 0, 0, 0, 0],\n",
       " '0b00101001': [1, 8, 8, 4, 9, 8],\n",
       " '0b010001101110': [1, 0, 0, 0, 0, 0],\n",
       " '0b001110001100': [1, 0, 0, 0, 0, 0],\n",
       " '0b01101101': [1, 0, 0, 0, 0, 0],\n",
       " '0b000100101110': [1, 0, 0, 0, 0, 0],\n",
       " '0b00010010001000101000': [1, 0, 0, 1, 0, 0],\n",
       " '0b000110001101': [1, 1, 0, 0, 0, 0],\n",
       " '0b01000100010001101000': [1, 0, 0, 0, 0, 0],\n",
       " '0b00100010100010001000': [1, 3, 0, 2, 0, 1],\n",
       " '0b1000100010001100': [1, 0, 1, 2, 0, 0],\n",
       " '0b0001000110001100': [1, 0, 0, 0, 0, 0],\n",
       " '0b101111001100': [1, 0, 0, 0, 0, 0],\n",
       " '0b0100100010111110': [1, 0, 0, 0, 0, 0],\n",
       " '0b010001111000': [1, 0, 0, 0, 0, 0],\n",
       " '0b10111111': [1, 0, 0, 0, 0, 0],\n",
       " '0b000111001100': [1, 0, 0, 0, 0, 0],\n",
       " '0b10011110': [1, 0, 0, 0, 0, 0],\n",
       " '0b0001001010001100': [1, 0, 0, 0, 0, 0],\n",
       " '0b01011011': [1, 0, 0, 0, 0, 0],\n",
       " '0b001001001001': [1, 0, 0, 0, 1, 0],\n",
       " '0b000100011011': [1, 0, 0, 0, 0, 0],\n",
       " '0b0010001000101100': [1, 0, 0, 0, 3, 0],\n",
       " '0b0100010001011001': [1, 0, 0, 0, 0, 0],\n",
       " '0b0100010001001010': [1, 1, 1, 0, 0, 0],\n",
       " '0b010001011100': [1, 0, 0, 0, 0, 0],\n",
       " '0b0011100010001011': [1, 0, 0, 0, 0, 0],\n",
       " '0b0001000110001110': [1, 0, 0, 0, 0, 0],\n",
       " '0b0001001000101100': [1, 0, 0, 0, 0, 0],\n",
       " '0b0011010001011000': [1, 0, 0, 0, 0, 0],\n",
       " '0b010001011000': [1, 1, 1, 1, 1, 0],\n",
       " '0b011010001010': [1, 0, 0, 0, 0, 0],\n",
       " '0b01001011': [1, 0, 1, 0, 1, 0],\n",
       " '0b0011011001101110': [1, 0, 0, 0, 0, 0],\n",
       " '0b0110110011001101': [1, 0, 0, 0, 0, 0],\n",
       " '0b00011000100010101100': [1, 0, 0, 0, 0, 0],\n",
       " '0b001001011000': [1, 1, 0, 0, 1, 0],\n",
       " '0b0001000101011011': [1, 0, 0, 0, 0, 0],\n",
       " '0b0001000100011010': [1, 0, 0, 0, 0, 0],\n",
       " '0b0010001001101010': [1, 0, 1, 0, 0, 0],\n",
       " '0b00110100010001001000': [1, 0, 0, 0, 0, 0],\n",
       " '0b000100010001001010101010': [1, 0, 0, 0, 0, 0],\n",
       " '0b010001010110100010001010': [1, 0, 0, 0, 0, 0],\n",
       " '0b0100100010101100': [1, 0, 0, 0, 0, 0],\n",
       " '0b01000100100010001000': [1, 1, 3, 0, 2, 0],\n",
       " '0b0010010001001000': [1, 3, 0, 0, 2, 3],\n",
       " '0b010110001000': [1, 1, 0, 1, 1, 0],\n",
       " '0b010101101111': [1, 0, 0, 0, 0, 0],\n",
       " '0b101011001111': [1, 0, 0, 0, 0, 0],\n",
       " '0b001010001001': [1, 0, 0, 1, 0, 1],\n",
       " '0b001110001001': [1, 0, 0, 0, 0, 0],\n",
       " '0b0001000100010001000100100010001101111011': [1, 0, 0, 0, 0, 0],\n",
       " '0b00100100010001101011': [1, 0, 0, 0, 0, 0],\n",
       " '0b100010011111': [1, 0, 0, 0, 0, 0],\n",
       " '0b0010001000110011001101000100011001111111': [1, 0, 0, 0, 0, 0],\n",
       " '0b01000111100010001100': [1, 0, 0, 0, 0, 0],\n",
       " '0b0001000100111110': [1, 0, 0, 0, 0, 0],\n",
       " '0b0100010001100110011010001000110011101110': [1, 0, 0, 0, 0, 0],\n",
       " '0b0010001101101100': [1, 0, 0, 0, 0, 0],\n",
       " '0b10001000100011001100110011001100': [1, 0, 0, 0, 0, 0],\n",
       " '0b0100011010001100': [1, 0, 0, 0, 0, 0],\n",
       " '0b0001001101101000': [1, 0, 0, 0, 0, 0],\n",
       " '0b010001101111': [1, 0, 0, 0, 0, 0],\n",
       " '0b0001100010001111': [1, 0, 0, 0, 0, 0],\n",
       " '0b100011001111': [1, 0, 0, 0, 0, 0],\n",
       " '0b000101011110': [1, 0, 0, 0, 0, 0],\n",
       " '0b00010001001010101100': [1, 0, 0, 0, 0, 0],\n",
       " '0b00100010010001001000': [1, 0, 1, 0, 0, 1],\n",
       " '0b0001000100101000': [1, 2, 2, 3, 1, 1],\n",
       " '0b00100010001000101000': [1, 4, 1, 6, 1, 4],\n",
       " '0b0001000100011111': [1, 0, 0, 0, 0, 0],\n",
       " '0b0010001000101110': [1, 0, 0, 0, 0, 0],\n",
       " '0b0001000110001001': [1, 0, 0, 0, 3, 0],\n",
       " '0b0001010010001001': [1, 0, 0, 1, 0, 0],\n",
       " '0b000110001110': [1, 0, 1, 0, 0, 0],\n",
       " '0b0111100010001000': [1, 0, 0, 0, 0, 0],\n",
       " '0b0010010010101100': [1, 0, 0, 0, 0, 0],\n",
       " '0b0010001101001100': [1, 0, 0, 0, 0, 0],\n",
       " '0b0100011010001000': [1, 0, 1, 1, 0, 0],\n",
       " '0b010010101100': [1, 0, 0, 0, 0, 0],\n",
       " '0b0100011110001000': [1, 0, 0, 0, 0, 0],\n",
       " '0b001001001110': [1, 0, 0, 0, 0, 0],\n",
       " '0b0010001001001110': [1, 0, 0, 0, 0, 0],\n",
       " '0b00010001100010001001': [1, 0, 0, 0, 0, 0],\n",
       " '0b0001001000101011': [1, 0, 0, 0, 0, 0],\n",
       " '0b0111100010001111': [1, 0, 0, 0, 0, 0],\n",
       " '0b001011111111': [1, 0, 0, 0, 0, 0],\n",
       " '0b010011101110': [1, 0, 0, 0, 0, 0],\n",
       " '0b00010001100011001100': [1, 0, 0, 0, 0, 0],\n",
       " '0b0010100010001110': [1, 0, 0, 0, 0, 0],\n",
       " '0b0100010110001111': [1, 0, 0, 0, 0, 0],\n",
       " '0b100010101110': [1, 0, 0, 0, 0, 0],\n",
       " '0b10011111': [1, 0, 0, 0, 0, 0],\n",
       " '0b0001010001101011': [1, 0, 0, 0, 0, 0],\n",
       " '0b0010011010001100': [1, 0, 0, 0, 0, 0],\n",
       " '0b000101111000': [1, 0, 0, 0, 0, 0]}"
      ]
     },
     "execution_count": 33,
     "metadata": {},
     "output_type": "execute_result"
    }
   ],
   "source": [
    "counts"
   ]
  },
  {
   "cell_type": "markdown",
   "metadata": {},
   "source": [
    "# Apply statistical test"
   ]
  },
  {
   "cell_type": "code",
   "execution_count": 13,
   "metadata": {},
   "outputs": [
    {
     "name": "stdout",
     "output_type": "stream",
     "text": [
      "number of etns:\t 392 \n",
      "number of etm: \t 31\n"
     ]
    }
   ],
   "source": [
    "alpha=0.01\n",
    "beta=0.1\n",
    "gamma=10\n",
    "\n",
    "ETM = get_ETM(counts,alpha,beta,gamma)"
   ]
  },
  {
   "cell_type": "code",
   "execution_count": 14,
   "metadata": {
    "scrolled": false
   },
   "outputs": [
    {
     "name": "stdout",
     "output_type": "stream",
     "text": [
      "count \t = \t 501\n",
      "count \t = \t 435\n",
      "count \t = \t 217\n",
      "count \t = \t 122\n",
      "count \t = \t 97\n",
      "count \t = \t 87\n"
     ]
    },
    {
     "data": {
      "image/png": "[encoded data removed]",
      "text/plain": [
       "<Figure size 864x216 with 6 Axes>"
      ]
     },
     "metadata": {},
     "output_type": "display_data"
    }
   ],
   "source": [
    "fig_per_row = 6\n",
    "for i in range(0,fig_per_row,fig_per_row):\n",
    "    plt.figure(figsize=(12,3))\n",
    "    for j in range(fig_per_row):\n",
    "        plt.subplot(1,fig_per_row,j+1)\n",
    "        print(\"count \\t = \\t\",ETM[i+j][1])\n",
    "        draw_ETN(from_ETNS_to_ETN(ETM[i+j][0],k,meta_data),multiple=True)\n",
    "    plt.show()"
   ]
  },
  {
   "cell_type": "code",
   "execution_count": null,
   "metadata": {},
   "outputs": [],
   "source": []
  }
 ],
 "metadata": {
  "kernelspec": {
   "display_name": "Python 3",
   "language": "python",
   "name": "python3"
  },
  "language_info": {
   "codemirror_mode": {
    "name": "ipython",
    "version": 3
   },
   "file_extension": ".py",
   "mimetype": "text/x-python",
   "name": "python",
   "nbconvert_exporter": "python",
   "pygments_lexer": "ipython3",
   "version": "3.8.8"
  }
 },
 "nbformat": 4,
 "nbformat_minor": 4
}
