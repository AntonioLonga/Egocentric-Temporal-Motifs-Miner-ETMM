{
 "cells": [
  {
   "cell_type": "code",
   "execution_count": 3,
   "metadata": {},
   "outputs": [],
   "source": [
    "import construction as cs\n",
    "from ETN import *\n",
    "from ETMM import *\n",
    "\n",
    "%load_ext autoreload\n",
    "%autoreload 2"
   ]
  },
  {
   "cell_type": "code",
   "execution_count": 4,
   "metadata": {},
   "outputs": [],
   "source": [
    "# Parameters \n",
    "k = 3    # number of static snapshot used for the constructions of ETN\n",
    "gap = 299   # temporal graph\n",
    "label = False # if true, the loaded dataset is labeled\n",
    "file_name = \"InVS13\" # name of the file"
   ]
  },
  {
   "cell_type": "markdown",
   "metadata": {},
   "source": [
    "### Load the temporal graph as a sequence of static NetworkX graphs"
   ]
  },
  {
   "cell_type": "code",
   "execution_count": 6,
   "metadata": {},
   "outputs": [],
   "source": [
    "data = cs.load_data(\"Datasets/\"+file_name+\".dat\")\n",
    "if label:\n",
    "    meta_data = cs.load_metadata(\"Datasets/metadata/metadata_\"+file_name+\".dat\")\n",
    "else:\n",
    "    meta_data = None\n",
    "    \n",
    "if label:\n",
    "    graphs = cs.build_graphs(data,gap=gap,with_labels=label,meta_path=\"Datasets/metadata/metadata_\"+file_name+\".dat\")\n",
    "else:\n",
    "    graphs = cs.build_graphs(data,gap=gap,with_labels=label)"
   ]
  },
  {
   "cell_type": "markdown",
   "metadata": {},
   "source": [
    "### count ETN or LETN and store the result"
   ]
  },
  {
   "cell_type": "code",
   "execution_count": 7,
   "metadata": {},
   "outputs": [
    {
     "name": "stdout",
     "output_type": "stream",
     "text": [
      "file stored in: \tres/LH10/ETNS/gap_299_k_3.json\n"
     ]
    }
   ],
   "source": [
    "S = count_ETN(graphs,k,meta=meta_data)\n",
    "S = {k: v for k, v in sorted(S.items(), key=lambda item: item[1], reverse=1)}\n",
    "\n",
    "store_etns(S,file_name,gap,k,label=label)"
   ]
  },
  {
   "cell_type": "code",
   "execution_count": 8,
   "metadata": {},
   "outputs": [],
   "source": [
    "# load etns \n",
    "SS = load_etns(file_name,gap,k,label=label)\n",
    "assert(SS == S)"
   ]
  },
  {
   "cell_type": "code",
   "execution_count": 9,
   "metadata": {},
   "outputs": [
    {
     "name": "stdout",
     "output_type": "stream",
     "text": [
      "count \t = \t 758\n",
      "count \t = \t 237\n",
      "count \t = \t 210\n",
      "count \t = \t 198\n",
      "count \t = \t 99\n",
      "count \t = \t 93\n"
     ]
    },
    {
     "data": {
      "image/png": "[encoded data removed]",
      "text/plain": [
       "<Figure size 864x216 with 6 Axes>"
      ]
     },
     "metadata": {},
     "output_type": "display_data"
    }
   ],
   "source": [
    "# plot 6 most frequent ETN\n",
    "fig_per_row = 6\n",
    "S_array = list(S.keys())\n",
    "for i in range(0,6,fig_per_row):\n",
    "    plt.figure(figsize=(12,3))\n",
    "    for j in range(fig_per_row):\n",
    "        plt.subplot(1,fig_per_row,j+1)\n",
    "        print(\"count \\t = \\t\",S[S_array[i+j]])\n",
    "        draw_ETN(from_ETNS_to_ETN(S_array[i+j],k,meta_data),multiple=True)\n",
    "    plt.show()"
   ]
  },
  {
   "cell_type": "markdown",
   "metadata": {},
   "source": [
    "# Build Null models"
   ]
  },
  {
   "cell_type": "code",
   "execution_count": 10,
   "metadata": {},
   "outputs": [],
   "source": [
    "def buil_nm(graphs,n,file):\n",
    "    t = 0\n",
    "    to_save = []\n",
    "    f = open(\"null_models/\"+file+\"/\"+file+\"_\"+str(n)+\".txt\", \"a\")\n",
    "    for g in graphs:\n",
    "        for e in g.edges():\n",
    "            s = str(t)+\" \"+str(e[0])+\" \"+str(e[1])+\"\\n\"\n",
    "            f.write(s)\n",
    "        t = t + gap + 1\n",
    "    f.close()"
   ]
  },
  {
   "cell_type": "code",
   "execution_count": 11,
   "metadata": {},
   "outputs": [
    {
     "name": "stdout",
     "output_type": "stream",
     "text": [
      "20\n"
     ]
    }
   ],
   "source": [
    "seed = 10\n",
    "n = 20\n",
    "null_models = shuffle_graphs(graphs,n,seed)\n",
    "print(len(null_models))"
   ]
  },
  {
   "cell_type": "code",
   "execution_count": 13,
   "metadata": {},
   "outputs": [],
   "source": [
    "# store null models\n",
    "c = 0\n",
    "for graphs in null_models:\n",
    "    buil_nm(graphs,c,file_name)\n",
    "    c = c + 1"
   ]
  },
  {
   "cell_type": "markdown",
   "metadata": {},
   "source": [
    "# Egocentric temporal motifs miner ETMM"
   ]
  },
  {
   "cell_type": "code",
   "execution_count": 14,
   "metadata": {},
   "outputs": [],
   "source": [
    "# load precoputed etns\n",
    "S = load_etns(file_name,gap,k,label)"
   ]
  },
  {
   "cell_type": "code",
   "execution_count": 15,
   "metadata": {},
   "outputs": [
    {
     "name": "stdout",
     "output_type": "stream",
     "text": [
      "done 1\n",
      "done 2\n",
      "done 3\n",
      "done 4\n",
      "done 5\n",
      "done 6\n",
      "done 7\n",
      "done 8\n",
      "done 9\n",
      "done 10\n",
      "done 11\n",
      "done 12\n",
      "done 13\n",
      "done 14\n",
      "done 15\n",
      "done 16\n",
      "done 17\n",
      "done 18\n",
      "done 19\n",
      "done 20\n",
      "file stored in: \tres/LH10/ETM_counts/gap_299_k_3.json\n"
     ]
    }
   ],
   "source": [
    "# count etn in null models and store the results\n",
    "\n",
    "counts = counts_ETN_null_models(null_models,S,k,label,meta_data,verbose=True)\n",
    "store_etm_counts(counts,file_name,gap,k,label)"
   ]
  },
  {
   "cell_type": "code",
   "execution_count": 16,
   "metadata": {},
   "outputs": [],
   "source": [
    "tmp = load_etm_count(file_name,gap,k,label)\n",
    "assert(tmp == counts)"
   ]
  },
  {
   "cell_type": "markdown",
   "metadata": {},
   "source": [
    "# Apply statistical test"
   ]
  },
  {
   "cell_type": "code",
   "execution_count": 17,
   "metadata": {},
   "outputs": [
    {
     "name": "stdout",
     "output_type": "stream",
     "text": [
      "number of etns:\t 4367 \n",
      "number of etm: \t 48\n"
     ]
    }
   ],
   "source": [
    "alpha=0.01\n",
    "beta=0.1\n",
    "gamma=10\n",
    "\n",
    "ETM = get_ETM(counts,alpha,beta,gamma)"
   ]
  },
  {
   "cell_type": "code",
   "execution_count": 19,
   "metadata": {
    "scrolled": false
   },
   "outputs": [
    {
     "name": "stdout",
     "output_type": "stream",
     "text": [
      "count \t = \t 210\n",
      "count \t = \t 198\n",
      "count \t = \t 93\n",
      "count \t = \t 78\n",
      "count \t = \t 77\n",
      "count \t = \t 50\n"
     ]
    },
    {
     "data": {
      "image/png": "[encoded data removed]",
      "text/plain": [
       "<Figure size 864x216 with 6 Axes>"
      ]
     },
     "metadata": {},
     "output_type": "display_data"
    }
   ],
   "source": [
    "fig_per_row = 6\n",
    "for i in range(0,fig_per_row,fig_per_row):\n",
    "    plt.figure(figsize=(12,3))\n",
    "    for j in range(fig_per_row):\n",
    "        plt.subplot(1,fig_per_row,j+1)\n",
    "        print(\"count \\t = \\t\",ETM[i+j][1])\n",
    "        draw_ETN(from_ETNS_to_ETN(ETM[i+j][0],k,meta_data),multiple=True)\n",
    "    plt.show()"
   ]
  },
  {
   "cell_type": "code",
   "execution_count": null,
   "metadata": {},
   "outputs": [],
   "source": []
  }
 ],
 "metadata": {
  "kernelspec": {
   "display_name": "Python 3",
   "language": "python",
   "name": "python3"
  },
  "language_info": {
   "codemirror_mode": {
    "name": "ipython",
    "version": 3
   },
   "file_extension": ".py",
   "mimetype": "text/x-python",
   "name": "python",
   "nbconvert_exporter": "python",
   "pygments_lexer": "ipython3",
   "version": "3.8.5"
  }
 },
 "nbformat": 4,
 "nbformat_minor": 4
}
